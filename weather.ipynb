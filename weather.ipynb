{
 "cells": [
  {
   "cell_type": "code",
   "execution_count": 10,
   "id": "2cb4fbb7-8e8b-44c1-9faf-34ba356ae6da",
   "metadata": {},
   "outputs": [],
   "source": [
    "import requests # this library helps us to fetch data from API\n",
    "import pandas as pd\n",
    "import numpy as np\n",
    "from sklearn.model_selection import train_test_split\n",
    "from sklearn.preprocessing import LabelEncoder\n",
    "from sklearn.ensemble import RandomForestClassifier,RandomForestRegressor # models for classification and regression tasks\n",
    "from sklearn.metrics import mean_squared_error\n",
    "from datetime import datetime,timedelta # to handle date and time\n",
    "import pytz"
   ]
  },
  {
   "cell_type": "code",
   "execution_count": 1,
   "id": "6179e25b-17e4-40a8-9f1f-a1e14cc68edb",
   "metadata": {},
   "outputs": [],
   "source": [
    "API_KEY = \"97808df2cc2698d6089f5312211f052f\" #replace  with your actual api key\n",
    "BASE_URL = \"https://api.openweathermap.org/data/2.5/\""
   ]
  },
  {
   "cell_type": "code",
   "execution_count": 2,
   "id": "449c1c8f-f863-488d-926d-c146b76f13a8",
   "metadata": {},
   "outputs": [],
   "source": [
    "def get_current_weather(city):\n",
    "    url = f\"{BASE_URL}weather?q={city}&appid={API_KEY}&units=metric\" #construct the API request URL\n",
    "    response = requests.get(url) # send the ger request to API\n",
    "    data = response.json()\n",
    "    return{\n",
    "        'city' :data['name'],\n",
    "        'current_temp' : round(data['main']['temp']),\n",
    "        'feels_like' : round(data['main']['feels_like']),\n",
    "        'temp_min' : round(data['main']['temp_min']),\n",
    "        'temp_max' : round(data['main']['temp_max']),\n",
    "        'humidity' : round(data['main']['humidity']),\n",
    "        'description' : data['weather'][0]['description'],\n",
    "        'country': data['sys'].get('country', 'Unknown'),\n",
    "        'wind_gust_dir' : data['wind']['deg'],\n",
    "        'pressure' : data['main']['pressure'],\n",
    "        'Wind_Gust_Speed' : data['wind']['speed']\n",
    "    }"
   ]
  },
  {
   "cell_type": "code",
   "execution_count": 3,
   "id": "0d41a57f-20a0-4be4-b769-4e31adf9ff53",
   "metadata": {},
   "outputs": [],
   "source": [
    "filename = 'ML_Lab/weather.csv'\n",
    "def read_historical_data(filename):\n",
    "    df=pd.read_csv(\"weather.csv\")\n",
    "    df = df.dropna() #remove rows with missing \n",
    "    df = df.drop_duplicates()\n",
    "    return df\n"
   ]
  },
  {
   "cell_type": "code",
   "execution_count": 4,
   "id": "b8c76ad1-8f31-442a-97fe-49f28f723e32",
   "metadata": {},
   "outputs": [],
   "source": [
    "def prepare_data(data):\n",
    "    le = LabelEncoder() #create a LabelEncoder instances\n",
    "    data['WindGustDir'] = le.fit_transform(data['WindGustDir'])\n",
    "    data['RainTomorrow'] = le.fit_transform(data['RainTomorrow'])\n",
    "\n",
    "    #define the feature variable and target variables\n",
    "    x =data[['MinTemp','MaxTemp','WindGustDir','WindGustSpeed','Humidity','Pressure','Temp']] #feature variables\n",
    "    y = data['RainTomorrow']\n",
    "\n",
    "    return x,y,le #return  feature variables,target variable and the label encoder\n",
    "    "
   ]
  },
  {
   "cell_type": "code",
   "execution_count": 5,
   "id": "2e2df4b5-1e0d-4fcf-965a-9213f51ddb08",
   "metadata": {},
   "outputs": [],
   "source": [
    "def train_rain_model(x,y):\n",
    "    x_train,x_test,y_train,y_test = train_test_split(x,y,test_size=0.2,random_state=42)\n",
    "    model = RandomForestClassifier(n_estimators=100,random_state=42)\n",
    "    model.fit(x_train,y_train)#train the model\n",
    "    y_pred = model.predict(x_test) #to make predictions on test split\n",
    "    print(\"mean_squared_error for rain model\")\n",
    "    print(mean_squared_error(y_test,y_pred))\n",
    "    return model"
   ]
  },
  {
   "cell_type": "code",
   "execution_count": 6,
   "id": "ca01ba25-cd7d-4924-8050-1293af8c0476",
   "metadata": {},
   "outputs": [],
   "source": [
    "def prepare_regression_data(data,feature):\n",
    "    x,y =[],[] #initialize list for feature and target values\n",
    "    for i  in range(len(data)-1):\n",
    "        x.append(data[feature].iloc[i])\n",
    "        y.append(data[feature].iloc[i+1])\n",
    "    x = np.array(x).reshape(-1,1)\n",
    "    y = np.array(y)\n",
    "    return x,y"
   ]
  },
  {
   "cell_type": "code",
   "execution_count": 7,
   "id": "03cf1b4a-069f-48fb-8420-fda282b1b8ce",
   "metadata": {},
   "outputs": [],
   "source": [
    "def train_regression_model(x,y):\n",
    "    model = RandomForestRegressor(n_estimators =100,random_state=42)\n",
    "    model.fit(x,y)\n",
    "    return model"
   ]
  },
  {
   "cell_type": "code",
   "execution_count": null,
   "id": "f6bd0d0b-09f1-4893-aa95-356c4bce9449",
   "metadata": {},
   "outputs": [],
   "source": [
    "def predict_future(model,current_value, steps=90):\n",
    "    predictions = [current_value]\n",
    "    for i in range(5):\n",
    "        next_value = model.predict(np.array([[predictions[-1]]]))\n",
    "        predictions.append(next_value[0])\n",
    "    return predictions[-1:]"
   ]
  },
  {
   "cell_type": "code",
   "execution_count": 9,
   "id": "6cd83b9e-eb94-413a-ba96-42eec62f1539",
   "metadata": {},
   "outputs": [
    {
     "name": "stderr",
     "output_type": "stream",
     "text": [
      "2025-03-10 21:53:17.539 \n",
      "  \u001b[33m\u001b[1mWarning:\u001b[0m to view this Streamlit app on a browser, run it with the following\n",
      "  command:\n",
      "\n",
      "    streamlit run /home/raju/.local/lib/python3.10/site-packages/ipykernel_launcher.py [ARGUMENTS]\n"
     ]
    }
   ],
   "source": [
    "import streamlit as st\n",
    "import pandas as pd\n",
    "import pytz\n",
    "from datetime import datetime, timedelta\n",
    "\n",
    "def weather_view():\n",
    "    st.title(\"Weather Prediction App\")\n",
    "    \n",
    "    city = st.text_input(\"Enter city Name:\")\n",
    "    if st.button(\"Get Weather\"):\n",
    "        current_weather = get_current_weather(city)\n",
    "\n",
    "        # Load historical data\n",
    "        historical_data = read_historical_data('/home/raju/rainfall_api/weather.csv')\n",
    "        \n",
    "        # Prepare and train the rain prediction model\n",
    "        x, y, le = prepare_data(historical_data)\n",
    "        rain_model = train_rain_model(x, y)\n",
    "\n",
    "        # Map wind direction to compass points\n",
    "        wind_deg = current_weather['wind_gust_dir'] % 360\n",
    "        compass_points = [\n",
    "            (\"N\", 348.75, 11.25), (\"NNE\", 11.25, 33.75), (\"NE\", 33.75, 56.25),\n",
    "            (\"ENE\", 56.25, 78.75), (\"E\", 78.75, 101.25), (\"ESE\", 101.25, 123.75),\n",
    "            (\"SE\", 123.75, 146.25), (\"SSE\", 146.25, 168.75), (\"S\", 168.75, 191.25),\n",
    "            (\"SSW\", 191.25, 213.75), (\"SW\", 213.75, 236.25), (\"WSW\", 236.25, 258.75),\n",
    "            (\"W\", 258.75, 281.25), (\"WNW\", 281.25, 303.75), (\"NW\", 303.75, 326.25),\n",
    "            (\"NNW\", 326.25, 348.75)\n",
    "        ]\n",
    "        compass_direction = next(point for point, start, end in compass_points if start <= wind_deg < end)\n",
    "        compass_direction_encoded = le.transform([compass_direction])[0] if compass_direction in le.classes_ else -1\n",
    "\n",
    "        current_data = {\n",
    "            'MinTemp': current_weather['temp_min'],\n",
    "            'MaxTemp': current_weather['temp_max'],\n",
    "            'WindGustDir': current_weather['wind_gust_dir'],\n",
    "            'WindGustSpeed': current_weather['Wind_Gust_Speed'],\n",
    "            'Humidity': current_weather['humidity'],\n",
    "            'Pressure': current_weather['pressure'],\n",
    "            'Temp': current_weather['current_temp']\n",
    "        }\n",
    "\n",
    "        current_df = pd.DataFrame([current_data])\n",
    "        \n",
    "        # Rain prediction\n",
    "        rain_prediction = rain_model.predict(current_df)[0]\n",
    "\n",
    "        # Prepare regression model for temperature and humidity\n",
    "        x_temp, y_temp = prepare_regression_data(historical_data, 'Temp')\n",
    "        x_hum, y_hum = prepare_regression_data(historical_data, 'Humidity')\n",
    "        temp_model = train_regression_model(x_temp, y_temp)\n",
    "        hum_model = train_regression_model(x_hum, y_hum)\n",
    "\n",
    "        # Predict future temperature and humidity\n",
    "        future_temp = predict_future(temp_model, current_weather['temp_min'])\n",
    "        future_humidity = predict_future(hum_model, current_weather['humidity'])\n",
    "\n",
    "        # Prepare time for future prediction\n",
    "        timezone = pytz.timezone('Asia/Karachi')\n",
    "        now = datetime.now(timezone)\n",
    "        next_hour = now + timedelta(hours=1)\n",
    "        next_hour = next_hour.replace(minute=0, second=0, microsecond=0)\n",
    "\n",
    "        future_times = [(next_hour + timedelta(hours=i)).strftime(\"%H:00\") for i in range(5)]\n",
    "\n",
    "        # Display results\n",
    "        st.subheader(\"Current Weather Conditions:\")\n",
    "        st.write(f\"**Temperature:** {current_weather['current_temp']}°C\")\n",
    "        st.write(f\"**Feels Like:** {current_weather['feels_like']}°C\")\n",
    "        st.write(f\"**Min Temperature:** {current_weather['temp_min']}°C\")\n",
    "        st.write(f\"**Max Temperature:** {current_weather['temp_max']}°C\")\n",
    "        st.write(f\"**Humidity:** {current_weather['humidity']}%\")\n",
    "        st.write(f\"**Weather Prediction:** {current_weather['description']}\")\n",
    "        st.write(f\"**Rain Prediction:** {'Yes' if rain_prediction else 'No'}\")\n",
    "        \n",
    "        st.subheader(\"Future Temperature Predictions:\")\n",
    "        future_data = pd.DataFrame({\"Time\": future_times, \"Predicted Temperature (°C)\": future_temp})\n",
    "        st.dataframe(future_data)\n",
    "\n",
    "if __name__ == \"__main__\":\n",
    "    weather_view()\n"
   ]
  }
 ],
 "metadata": {
  "kernelspec": {
   "display_name": "Python 3",
   "language": "python",
   "name": "python3"
  },
  "language_info": {
   "codemirror_mode": {
    "name": "ipython",
    "version": 3
   },
   "file_extension": ".py",
   "mimetype": "text/x-python",
   "name": "python",
   "nbconvert_exporter": "python",
   "pygments_lexer": "ipython3",
   "version": "3.10.12"
  }
 },
 "nbformat": 4,
 "nbformat_minor": 5
}
